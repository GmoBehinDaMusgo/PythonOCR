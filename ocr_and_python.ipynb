{
  "nbformat": 4,
  "nbformat_minor": 0,
  "metadata": {
    "colab": {
      "provenance": []
    },
    "kernelspec": {
      "name": "python3",
      "display_name": "Python 3"
    },
    "language_info": {
      "name": "python"
    }
  },
  "cells": [
    {
      "cell_type": "markdown",
      "source": [
        "Introduction in OCR:\n",
        "\n",
        "*OCR* stands for *Optical Character Recognition*. This technology is based on python and it enables to conversion of different types of documents, for example scanned paper documents, PDF's, or images captured by a digital camera, into editable and searchable data. The goal of the technology of *OCR* is to recognize and extract text from two-dimensional image of text, that could contain machine printed or handwritten text from its image representation and convert it into machine-readable text, such as from the text in a piece of paper and convert it into a PDF file.\n",
        "\n",
        "*OCR* systems make use of a combination of sophisticated algorithms, pattern recognition and machine learning techniques to recognize characters and words within a two-dimensinal text. These algorithm analyse the shapes and sizes to identify and interpret the text accurately. This technology can increase it accuracy and efficiency by imporve the neural networks, computer vision and deep learning on the machine."
      ],
      "metadata": {
        "id": "uMVuphyxJFpE"
      }
    },
    {
      "cell_type": "code",
      "execution_count": null,
      "metadata": {
        "id": "ipYEttcX8Mow",
        "colab": {
          "base_uri": "https://localhost:8080/"
        },
        "outputId": "36e60b97-4bbd-4a9d-8a60-b805f89a1e9f"
      },
      "outputs": [
        {
          "output_type": "stream",
          "name": "stdout",
          "text": [
            "Requirement already satisfied: easyocr in /usr/local/lib/python3.10/dist-packages (1.7.1)\n",
            "Requirement already satisfied: torch in /usr/local/lib/python3.10/dist-packages (2.1.0+cu121)\n",
            "Requirement already satisfied: torchvision>=0.5 in /usr/local/lib/python3.10/dist-packages (from easyocr) (0.16.0+cu121)\n",
            "Requirement already satisfied: opencv-python-headless in /usr/local/lib/python3.10/dist-packages (from easyocr) (4.9.0.80)\n",
            "Requirement already satisfied: scipy in /usr/local/lib/python3.10/dist-packages (from easyocr) (1.11.4)\n",
            "Requirement already satisfied: numpy in /usr/local/lib/python3.10/dist-packages (from easyocr) (1.25.2)\n",
            "Requirement already satisfied: Pillow in /usr/local/lib/python3.10/dist-packages (from easyocr) (9.4.0)\n",
            "Requirement already satisfied: scikit-image in /usr/local/lib/python3.10/dist-packages (from easyocr) (0.19.3)\n",
            "Requirement already satisfied: python-bidi in /usr/local/lib/python3.10/dist-packages (from easyocr) (0.4.2)\n",
            "Requirement already satisfied: PyYAML in /usr/local/lib/python3.10/dist-packages (from easyocr) (6.0.1)\n",
            "Requirement already satisfied: Shapely in /usr/local/lib/python3.10/dist-packages (from easyocr) (2.0.3)\n",
            "Requirement already satisfied: pyclipper in /usr/local/lib/python3.10/dist-packages (from easyocr) (1.3.0.post5)\n",
            "Requirement already satisfied: ninja in /usr/local/lib/python3.10/dist-packages (from easyocr) (1.11.1.1)\n",
            "Requirement already satisfied: filelock in /usr/local/lib/python3.10/dist-packages (from torch) (3.13.1)\n",
            "Requirement already satisfied: typing-extensions in /usr/local/lib/python3.10/dist-packages (from torch) (4.10.0)\n",
            "Requirement already satisfied: sympy in /usr/local/lib/python3.10/dist-packages (from torch) (1.12)\n",
            "Requirement already satisfied: networkx in /usr/local/lib/python3.10/dist-packages (from torch) (3.2.1)\n",
            "Requirement already satisfied: jinja2 in /usr/local/lib/python3.10/dist-packages (from torch) (3.1.3)\n",
            "Requirement already satisfied: fsspec in /usr/local/lib/python3.10/dist-packages (from torch) (2023.6.0)\n",
            "Requirement already satisfied: triton==2.1.0 in /usr/local/lib/python3.10/dist-packages (from torch) (2.1.0)\n",
            "Requirement already satisfied: requests in /usr/local/lib/python3.10/dist-packages (from torchvision>=0.5->easyocr) (2.31.0)\n",
            "Requirement already satisfied: MarkupSafe>=2.0 in /usr/local/lib/python3.10/dist-packages (from jinja2->torch) (2.1.5)\n",
            "Requirement already satisfied: six in /usr/local/lib/python3.10/dist-packages (from python-bidi->easyocr) (1.16.0)\n",
            "Requirement already satisfied: imageio>=2.4.1 in /usr/local/lib/python3.10/dist-packages (from scikit-image->easyocr) (2.31.6)\n",
            "Requirement already satisfied: tifffile>=2019.7.26 in /usr/local/lib/python3.10/dist-packages (from scikit-image->easyocr) (2024.2.12)\n",
            "Requirement already satisfied: PyWavelets>=1.1.1 in /usr/local/lib/python3.10/dist-packages (from scikit-image->easyocr) (1.5.0)\n",
            "Requirement already satisfied: packaging>=20.0 in /usr/local/lib/python3.10/dist-packages (from scikit-image->easyocr) (23.2)\n",
            "Requirement already satisfied: mpmath>=0.19 in /usr/local/lib/python3.10/dist-packages (from sympy->torch) (1.3.0)\n",
            "Requirement already satisfied: charset-normalizer<4,>=2 in /usr/local/lib/python3.10/dist-packages (from requests->torchvision>=0.5->easyocr) (3.3.2)\n",
            "Requirement already satisfied: idna<4,>=2.5 in /usr/local/lib/python3.10/dist-packages (from requests->torchvision>=0.5->easyocr) (3.6)\n",
            "Requirement already satisfied: urllib3<3,>=1.21.1 in /usr/local/lib/python3.10/dist-packages (from requests->torchvision>=0.5->easyocr) (2.0.7)\n",
            "Requirement already satisfied: certifi>=2017.4.17 in /usr/local/lib/python3.10/dist-packages (from requests->torchvision>=0.5->easyocr) (2024.2.2)\n"
          ]
        }
      ],
      "source": [
        "! pip install easyocr torch"
      ]
    },
    {
      "cell_type": "markdown",
      "source": [
        "First we need to install some libraries that we will be using. For that we need to use `pip`.\n",
        "\n",
        "`pip` is the Python package installer. `pip` is used to download and install packages from the *Python Package Index (PyPI)* and other package repositories. It manages package installations, updates, and removals.\n",
        "\n",
        "PyTorch (`torch`) is an open-source machine learning library used for applications such as computer vision and natural language processing, primarily developed by Facebook's AI Research lab. It provides a flexible and powerful platform for building deep learning models.\n"
      ],
      "metadata": {
        "id": "K0HeJnYeLGxq"
      }
    },
    {
      "cell_type": "code",
      "source": [
        "import os\n",
        "from typing import List\n",
        "import argparse\n",
        "import easyocr"
      ],
      "metadata": {
        "id": "T0YDOGTo9Rht"
      },
      "execution_count": null,
      "outputs": []
    },
    {
      "cell_type": "markdown",
      "source": [
        "`import os` allows your script to interact with the operating system. It's used for tasks like navigating file directories or working with file paths.\n",
        "\n",
        "`from typing import List` is used for type hints, which help specify the kind of elements a list should contain, improving code readability and error detection. For example, `list[str]` indicates a list of strings.\n",
        "\n",
        "`import argparse` is used for creating user-friendly command-line interfaces. It helps your script understand command-line arguments and options, making it easier to configure and run your script from the terminal.\n",
        "\n",
        "`import easyocr` is a python package that allows computer vision developers to effortlessly perform *Optical Character Recognition*. A varied dataset of text images is fundamental for getting started with *EasyOCR*. It helps the *OCR* system to handle a wide range of text styles, fonts, and orientations, enhancing the systems overall effectiveness."
      ],
      "metadata": {
        "id": "hsfuG0Q9J5J9"
      }
    },
    {
      "cell_type": "code",
      "source": [
        "# Setup reader ocr\n",
        "\n",
        "reader = easyocr.Reader(['en'])"
      ],
      "metadata": {
        "id": "wffIWOFx9YjQ",
        "colab": {
          "base_uri": "https://localhost:8080/"
        },
        "outputId": "ab840ad7-f644-44ae-fd60-c918c4b3ce1a"
      },
      "execution_count": null,
      "outputs": [
        {
          "output_type": "stream",
          "name": "stderr",
          "text": [
            "WARNING:easyocr.easyocr:Neither CUDA nor MPS are available - defaulting to CPU. Note: This module is much faster with a GPU.\n"
          ]
        }
      ]
    },
    {
      "cell_type": "markdown",
      "source": [
        "The single line: `reader = easyocr.Reader(['en'])` initializes an *Optical Character Recognition (OCR)* reader using the EasyOCR library, specifically configured to recognize English text. Here's a breakdown of what each part of the line does:\n",
        "\n",
        "`easyocr.Reader` is a constructor for creating a new *OCR* reader instance using the *EasyOCR* library. The Reader object is what you use to perform *OCR* operations on images.\n",
        "\n",
        "The parameter passed to the Reader constructor is a list of language codes specifying which languages the *OCR* engine should recognize. In this case, `['en']` indicates that the reader should be able to recognize English text. *EasyOCR* supports multiple languages, and you can pass more than one language code in this list if you need to recognize text in multiple languages.\n",
        "\n",
        "We assigned reader: This is the variable name assigned to the instance of the Reader object. Once initialized, you use this reader object to call *OCR* methods to analyze images and extract text from them.\n",
        "\n",
        "Overall, this line sets up an *EasyOCR* reader instance that's ready to recognize English text in images. You can then use this reader to process images by passing them to the reader's methods, such as readtext, to extract text data."
      ],
      "metadata": {
        "id": "WxFykn6wP3Ie"
      }
    },
    {
      "cell_type": "code",
      "source": [
        "def ocr_scan(image_path: str) -> str:\n",
        "    result = reader.readtext(image_path) #Use the reader to read text from the image\n",
        "    recognized_text = \" \".join([text for _, text, _ in result]) #Combine the detected text pieces into a single string\n",
        "\n",
        "    return recognized_text\n",
        "\n",
        "image_path = \"/content/Test_image.png\"\n",
        "recognized_text = ocr_scan(image_path)\n",
        "print(recognized_text)"
      ],
      "metadata": {
        "id": "XvIrL24-9lq_",
        "colab": {
          "base_uri": "https://localhost:8080/"
        },
        "outputId": "4263691e-6e44-4cb0-e4d0-d740b255edba"
      },
      "execution_count": null,
      "outputs": [
        {
          "output_type": "stream",
          "name": "stdout",
          "text": [
            "It was the best of times, it was the worst of times, it was the age of wisdom; it was the age of foolishness .\n"
          ]
        }
      ]
    },
    {
      "cell_type": "markdown",
      "source": [
        "This code defines a Python function named `ocr_scan` that performs *Optical Character Recognition (OCR)* on an image file to extract and return its textual content as a single string. Here's a step-by-step explanation:\n",
        "\n",
        "**Function Definition:**\n",
        "\n",
        "The function `ocr_scan` is defined with one parameter, `image_path`, which is a string representing the path to the image file you want to perform OCR on. The function is expected to return a string `str`, which is the recognized text from the image.\n",
        "\n",
        "**Performing OCR:**\n",
        "\n",
        "`result = reader.readtext(image_path)` uses an *OCR* reader to perform OCR on the image located at `image_path`. The readtext method of the reader object processes the image and returns a list of tuples. Each tuple contains the bounding box coordinates of a detected text region, the text string itself, and a confidence level for the OCR recognition.\n",
        "\n",
        "**Extracting and Combining Recognized Text:**\n",
        "\n",
        "`recognized_text = \" \".join([text for _, text, _ in result])` extracts just the text strings from each tuple in the result list and combines them into a single string, `recognized_text`. The comprehension `[text for _, text, _ in result]` iterates over each tuple in result, ignoring the bounding box coordinates and confidence level (represented by underscores _ as placeholders), and collects the text strings. These strings are then joined together with spaces `(\" \".join(...))` to form a single, coherent piece of text that represents all the recognized text from the image.\n",
        "\n",
        "**Returning the Recognized Text:**\n",
        "\n",
        "`return recognized_text` returns the combined recognized text as its output."
      ],
      "metadata": {
        "id": "5WncJSkPQiNx"
      }
    },
    {
      "cell_type": "code",
      "source": [
        "def search_images(directory: str, keyword: str) -> list[str]:\n",
        "    matching_images = []\n",
        "    for root, dir, files in os.walk(directory):\n",
        "        for file in files:\n",
        "            if file.endswith((\".png\", \".jpg\", \".jpeg\")):\n",
        "                image_path = os.path.join(root, file)\n",
        "                detected_text = ocr_scan(image_path)\n",
        "                if keyword.lower() in detected_text.lower():\n",
        "                    matching_images.append(image_path)\n",
        "\n",
        "    return matching_images\n",
        "\n",
        "search_images(\".\", keyword = \"wisdom\")"
      ],
      "metadata": {
        "colab": {
          "base_uri": "https://localhost:8080/"
        },
        "id": "6p44DRUgBnWy",
        "outputId": "2995e1d1-198d-4fc0-9d53-dfb92a8545bf"
      },
      "execution_count": null,
      "outputs": [
        {
          "output_type": "execute_result",
          "data": {
            "text/plain": [
              "['./Test_image.png']"
            ]
          },
          "metadata": {},
          "execution_count": 9
        }
      ]
    },
    {
      "cell_type": "markdown",
      "source": [
        "This code defines a function named `search_images` that is designed to search for images containing a specified keyword using *OCR*. Here's a step by step explanation:\n",
        "\n",
        "**Function Definition:**\n",
        "\n",
        "The function is named `search_images`, and takes two parameters. The first is `directory`, which is a string representing the directory path where the images are stored. The second parameter is `keyword`, which is a string representing the keyword to search for in the text detected in the images. The return type is specified as a list of strings `list[str]`, representing the paths of the matching images.\n",
        "\n",
        "**Initialization of an Empty List:**\n",
        "\n",
        "The code `matching_images = []` initializes an empty list. This list will be used to store the paths of images that contain the specified keyword.\n",
        "\n",
        "**Iterating Through Files in the Specified Directory:**\n",
        "\n",
        "The `os.walk` function is used to iterate through all the files in the specified directory and its subdirectories. `root` represents the current directory being processed, `dir` represents the subdirectories in the current directory, and `files` represents the files in the current directory. All of these variables are used inside a for loop.\n",
        "\n",
        "**Filtering Image Files:**\n",
        "\n",
        "This part of the code uses a for loop to check, for each file in the current directory, if the file has one of the specified image extensions, for example, `(\".png\", \".jpg\", \".jpeg\")`. This is a basic filter to exclude all non-image files that cannot be detected by OCR.\n",
        "\n",
        "**Extracting Image Paath and Performing OCR:**\n",
        "\n",
        "In the code `image_path = os.path.join(root, file)`, the full path of the image file is created using os.path.join. The function `ocr_scan`, which had been defined before, is called with the image path, which presumably performs OCR on the image, extracting the text from it.\n",
        "\n",
        "**Checking for Jeyword in Detected Text:**\n",
        "\n",
        "This part discusses the code: `if keyword.lower() in detected_text.lower():`. Both the keyword and detected text are converted to lowercase using the function `.lower()`. As part of the code is an if statement, it checks if the lowercase keyword is present in the lowercase detected text. If the keyword is found in the detected text, the image path is considered a match.\n",
        "\n",
        "**Appending Matching Image Paths to List:**\n",
        "\n",
        "This part represents the code: `matching_images.append(image_path)`. Continuing from the previous part, if a match is found, the path of the current image is appended to the `matching_images` list.\n",
        "\n",
        "**Returning Matching Image Paths:**\n",
        "\n",
        "The return code looks like this: `return matching_images`. Therefore, after processing all files in the specified directory and its subdirectories, the function returns the list of image paths that contain the specified keyword.\n",
        "\n",
        "**Example Usage:**\n",
        "\n",
        "`search_images(\".\", keyword=\"wisdom\")` calls the fuctionand looks in the current directory `(\".\")` and the keyword \"wisdom\" in this case. It returns a list of paths from the images where the detected keyword is found."
      ],
      "metadata": {
        "id": "ZfTCNe03UaWY"
      }
    },
    {
      "cell_type": "code",
      "source": [
        "def main():\n",
        "    # Manual input prompts to replace argparse in environments like Jupyter notebooks\n",
        "    use_directory = input(\"Do you want to search in a directory (yes/no)? \").lower() == 'yes'\n",
        "    if use_directory:\n",
        "        directory = input(\"Enter the directory path containing the images: \")\n",
        "        keyword = input(\"Enter the keyword text you are looking for: \")\n",
        "        matching_images = search_images(directory, keyword)\n",
        "        print(\"Images that contain the keyword:\")\n",
        "        for image_path in matching_images:\n",
        "            print(image_path)\n",
        "    else:\n",
        "        image_path = input(\"Enter the image path to scan: \")\n",
        "        keyword = input(\"Enter the keyword text you are looking for: \")\n",
        "        detected_text = ocr_scan(image_path)\n",
        "        if keyword.lower() in detected_text.lower():\n",
        "            print(\"Keyword detected in the image\")\n",
        "            print(f\"Detected text: {detected_text}\")\n",
        "        else:\n",
        "            print(\"Keyword not detected in the image\")\n",
        "\n",
        "if __name__ == \"__main__\":\n",
        "    main()\n"
      ],
      "metadata": {
        "id": "DATxt3fpHsUH",
        "colab": {
          "base_uri": "https://localhost:8080/"
        },
        "outputId": "6fc625a1-9f87-44ee-80fc-07df75d5a233"
      },
      "execution_count": null,
      "outputs": [
        {
          "output_type": "stream",
          "name": "stdout",
          "text": [
            "Do you want to search in a directory (yes/no)? yes\n",
            "Enter the directory path containing the images: /content\n",
            "Enter the keyword text you are looking for: time\n",
            "Images that contain the keyword:\n",
            "/content/Test_image.png\n"
          ]
        }
      ]
    },
    {
      "cell_type": "markdown",
      "source": [
        "This code defines a `main()` function for interacting with the *OCR* system. The purpose of the `main()` function is to provide a simple interface for users to search for images or analyse individual images based on the specific keyword they want to find.\n",
        "\n",
        "**User Input for Search Mode:**\n",
        "\n",
        "`use_directory = input(\"Do you want to search in a directory (yes/no)? \").lower() == 'yes'`. The code is to let the user to decide whether they want to search in a directory or analyse a single image. Also, the input is converted to lowercase, and the variable `use _directory` is set to `True` if the user inputs “yes” or else `False`.\n",
        "\n",
        "**Conditional Branching Based on User Input:**\n",
        "\n",
        "This part is the main if statement in the `main()` function. If `use_directory` is `True`, the code inside the first block is executed for searching in a directory. Otherwise, the code inside the second block is executed for analysing a single image.\n",
        "\n",
        "**Directory Search:**\n",
        "\n",
        "If the user input “yes” in the user input, it will starts searching in a directory, they are prompted to enter the directory path and the keyword. The function `search_images` is called with the specified directory and keyword and the paths of images containing the keyword will be printed.\n",
        "\n",
        "**Single Image Analysis:**\n",
        "\n",
        "If the user chooses to analyse a single image, they are prompted to enter the image path and the keyword. The function `ocr_scan` function is called to extract text from the image. The detected text is compared with the specified keyword, and a message is printed based on the code here:\n",
        "```\n",
        "if keyword.lower() in detected_text.lower():\n",
        "print(\"Keyword detected in the image\")\n",
        "print(f\"Detected text: {detected_text}\")\n",
        "else:\n",
        "print(\"Keyword not detected in the image\")\n",
        "```"
      ],
      "metadata": {
        "id": "fPBVNSARHJBh"
      }
    },
    {
      "cell_type": "code",
      "source": [
        "def main():\n",
        "    # Assuming the working directory is always the target directory in Google Colab\n",
        "    directory = os.getcwd()  # Gets the current working directory\n",
        "    keyword = input(\"Enter the keyword text you are looking for: \")\n",
        "\n",
        "    # Assuming search_images function is implemented to search through all images in the given directory\n",
        "    matching_images = search_images(directory, keyword)\n",
        "\n",
        "    if matching_images:\n",
        "        print(\"Images that contain the keyword:\")\n",
        "        for image_path in matching_images:\n",
        "            print(image_path)\n",
        "    else:\n",
        "        print(\"No images containing the keyword were found.\")\n",
        "\n",
        "# Implement or ensure the search_images function and ocr_scan function are defined as per previous instructions\n",
        "\n",
        "if __name__ == \"__main__\":\n",
        "    main()\n"
      ],
      "metadata": {
        "id": "yVaL2NRlIMyF",
        "colab": {
          "base_uri": "https://localhost:8080/"
        },
        "outputId": "ac8e0e5f-16a7-4df7-af31-a8572592cc9f"
      },
      "execution_count": null,
      "outputs": [
        {
          "output_type": "stream",
          "name": "stdout",
          "text": [
            "Enter the keyword text you are looking for: time\n",
            "Images that contain the keyword:\n",
            "/content/Test_image.png\n"
          ]
        }
      ]
    },
    {
      "cell_type": "markdown",
      "source": [
        "This other main fuction basically has the same behaviour but instead of asking you for the directory it just searches the images in the default work directory. This is done by saying that the variable `directory` is equal to `os.getcwd()` which refers to the current directory of the program."
      ],
      "metadata": {
        "id": "-3BrtTKJNNhS"
      }
    },
    {
      "cell_type": "code",
      "source": [
        "! pip install nltk matplotlib beautifulsoup4 gensim svgling"
      ],
      "metadata": {
        "id": "zH1u0ikhOUdN",
        "colab": {
          "base_uri": "https://localhost:8080/"
        },
        "outputId": "e551977a-42f2-4dd8-e424-5d09e6656765"
      },
      "execution_count": null,
      "outputs": [
        {
          "output_type": "stream",
          "name": "stdout",
          "text": [
            "Requirement already satisfied: nltk in /usr/local/lib/python3.10/dist-packages (3.8.1)\n",
            "Requirement already satisfied: matplotlib in /usr/local/lib/python3.10/dist-packages (3.7.1)\n",
            "Requirement already satisfied: beautifulsoup4 in /usr/local/lib/python3.10/dist-packages (4.12.3)\n",
            "Requirement already satisfied: gensim in /usr/local/lib/python3.10/dist-packages (4.3.2)\n",
            "Collecting svgling\n",
            "  Downloading svgling-0.4.0-py3-none-any.whl (23 kB)\n",
            "Requirement already satisfied: click in /usr/local/lib/python3.10/dist-packages (from nltk) (8.1.7)\n",
            "Requirement already satisfied: joblib in /usr/local/lib/python3.10/dist-packages (from nltk) (1.3.2)\n",
            "Requirement already satisfied: regex>=2021.8.3 in /usr/local/lib/python3.10/dist-packages (from nltk) (2023.12.25)\n",
            "Requirement already satisfied: tqdm in /usr/local/lib/python3.10/dist-packages (from nltk) (4.66.2)\n",
            "Requirement already satisfied: contourpy>=1.0.1 in /usr/local/lib/python3.10/dist-packages (from matplotlib) (1.2.0)\n",
            "Requirement already satisfied: cycler>=0.10 in /usr/local/lib/python3.10/dist-packages (from matplotlib) (0.12.1)\n",
            "Requirement already satisfied: fonttools>=4.22.0 in /usr/local/lib/python3.10/dist-packages (from matplotlib) (4.49.0)\n",
            "Requirement already satisfied: kiwisolver>=1.0.1 in /usr/local/lib/python3.10/dist-packages (from matplotlib) (1.4.5)\n",
            "Requirement already satisfied: numpy>=1.20 in /usr/local/lib/python3.10/dist-packages (from matplotlib) (1.25.2)\n",
            "Requirement already satisfied: packaging>=20.0 in /usr/local/lib/python3.10/dist-packages (from matplotlib) (23.2)\n",
            "Requirement already satisfied: pillow>=6.2.0 in /usr/local/lib/python3.10/dist-packages (from matplotlib) (9.4.0)\n",
            "Requirement already satisfied: pyparsing>=2.3.1 in /usr/local/lib/python3.10/dist-packages (from matplotlib) (3.1.1)\n",
            "Requirement already satisfied: python-dateutil>=2.7 in /usr/local/lib/python3.10/dist-packages (from matplotlib) (2.8.2)\n",
            "Requirement already satisfied: soupsieve>1.2 in /usr/local/lib/python3.10/dist-packages (from beautifulsoup4) (2.5)\n",
            "Requirement already satisfied: scipy>=1.7.0 in /usr/local/lib/python3.10/dist-packages (from gensim) (1.11.4)\n",
            "Requirement already satisfied: smart-open>=1.8.1 in /usr/local/lib/python3.10/dist-packages (from gensim) (6.4.0)\n",
            "Collecting svgwrite (from svgling)\n",
            "  Downloading svgwrite-1.4.3-py3-none-any.whl (67 kB)\n",
            "\u001b[2K     \u001b[90m━━━━━━━━━━━━━━━━━━━━━━━━━━━━━━━━━━━━━━━━\u001b[0m \u001b[32m67.1/67.1 kB\u001b[0m \u001b[31m4.6 MB/s\u001b[0m eta \u001b[36m0:00:00\u001b[0m\n",
            "\u001b[?25hRequirement already satisfied: six>=1.5 in /usr/local/lib/python3.10/dist-packages (from python-dateutil>=2.7->matplotlib) (1.16.0)\n",
            "Installing collected packages: svgwrite, svgling\n",
            "Successfully installed svgling-0.4.0 svgwrite-1.4.3\n"
          ]
        }
      ]
    },
    {
      "cell_type": "code",
      "source": [
        "import nltk\n",
        "nltk.download('all')"
      ],
      "metadata": {
        "id": "ER6el0xbOVBK",
        "colab": {
          "base_uri": "https://localhost:8080/"
        },
        "outputId": "059c0149-f7ea-4301-826b-04d7a9bf748d"
      },
      "execution_count": null,
      "outputs": [
        {
          "output_type": "stream",
          "name": "stderr",
          "text": [
            "[nltk_data] Downloading collection 'all'\n",
            "[nltk_data]    | \n",
            "[nltk_data]    | Downloading package abc to /root/nltk_data...\n",
            "[nltk_data]    |   Unzipping corpora/abc.zip.\n",
            "[nltk_data]    | Downloading package alpino to /root/nltk_data...\n",
            "[nltk_data]    |   Unzipping corpora/alpino.zip.\n",
            "[nltk_data]    | Downloading package averaged_perceptron_tagger to\n",
            "[nltk_data]    |     /root/nltk_data...\n",
            "[nltk_data]    |   Unzipping taggers/averaged_perceptron_tagger.zip.\n",
            "[nltk_data]    | Downloading package averaged_perceptron_tagger_ru to\n",
            "[nltk_data]    |     /root/nltk_data...\n",
            "[nltk_data]    |   Unzipping\n",
            "[nltk_data]    |       taggers/averaged_perceptron_tagger_ru.zip.\n",
            "[nltk_data]    | Downloading package basque_grammars to\n",
            "[nltk_data]    |     /root/nltk_data...\n",
            "[nltk_data]    |   Unzipping grammars/basque_grammars.zip.\n",
            "[nltk_data]    | Downloading package bcp47 to /root/nltk_data...\n",
            "[nltk_data]    | Downloading package biocreative_ppi to\n",
            "[nltk_data]    |     /root/nltk_data...\n",
            "[nltk_data]    |   Unzipping corpora/biocreative_ppi.zip.\n",
            "[nltk_data]    | Downloading package bllip_wsj_no_aux to\n",
            "[nltk_data]    |     /root/nltk_data...\n",
            "[nltk_data]    |   Unzipping models/bllip_wsj_no_aux.zip.\n",
            "[nltk_data]    | Downloading package book_grammars to\n",
            "[nltk_data]    |     /root/nltk_data...\n",
            "[nltk_data]    |   Unzipping grammars/book_grammars.zip.\n",
            "[nltk_data]    | Downloading package brown to /root/nltk_data...\n",
            "[nltk_data]    |   Unzipping corpora/brown.zip.\n",
            "[nltk_data]    | Downloading package brown_tei to /root/nltk_data...\n",
            "[nltk_data]    |   Unzipping corpora/brown_tei.zip.\n",
            "[nltk_data]    | Downloading package cess_cat to /root/nltk_data...\n",
            "[nltk_data]    |   Unzipping corpora/cess_cat.zip.\n",
            "[nltk_data]    | Downloading package cess_esp to /root/nltk_data...\n",
            "[nltk_data]    |   Unzipping corpora/cess_esp.zip.\n",
            "[nltk_data]    | Downloading package chat80 to /root/nltk_data...\n",
            "[nltk_data]    |   Unzipping corpora/chat80.zip.\n",
            "[nltk_data]    | Downloading package city_database to\n",
            "[nltk_data]    |     /root/nltk_data...\n",
            "[nltk_data]    |   Unzipping corpora/city_database.zip.\n",
            "[nltk_data]    | Downloading package cmudict to /root/nltk_data...\n",
            "[nltk_data]    |   Unzipping corpora/cmudict.zip.\n",
            "[nltk_data]    | Downloading package comparative_sentences to\n",
            "[nltk_data]    |     /root/nltk_data...\n",
            "[nltk_data]    |   Unzipping corpora/comparative_sentences.zip.\n",
            "[nltk_data]    | Downloading package comtrans to /root/nltk_data...\n",
            "[nltk_data]    | Downloading package conll2000 to /root/nltk_data...\n",
            "[nltk_data]    |   Unzipping corpora/conll2000.zip.\n",
            "[nltk_data]    | Downloading package conll2002 to /root/nltk_data...\n",
            "[nltk_data]    |   Unzipping corpora/conll2002.zip.\n",
            "[nltk_data]    | Downloading package conll2007 to /root/nltk_data...\n",
            "[nltk_data]    | Downloading package crubadan to /root/nltk_data...\n",
            "[nltk_data]    |   Unzipping corpora/crubadan.zip.\n",
            "[nltk_data]    | Downloading package dependency_treebank to\n",
            "[nltk_data]    |     /root/nltk_data...\n",
            "[nltk_data]    |   Unzipping corpora/dependency_treebank.zip.\n",
            "[nltk_data]    | Downloading package dolch to /root/nltk_data...\n",
            "[nltk_data]    |   Unzipping corpora/dolch.zip.\n",
            "[nltk_data]    | Downloading package europarl_raw to\n",
            "[nltk_data]    |     /root/nltk_data...\n",
            "[nltk_data]    |   Unzipping corpora/europarl_raw.zip.\n",
            "[nltk_data]    | Downloading package extended_omw to\n",
            "[nltk_data]    |     /root/nltk_data...\n",
            "[nltk_data]    | Downloading package floresta to /root/nltk_data...\n",
            "[nltk_data]    |   Unzipping corpora/floresta.zip.\n",
            "[nltk_data]    | Downloading package framenet_v15 to\n",
            "[nltk_data]    |     /root/nltk_data...\n",
            "[nltk_data]    |   Unzipping corpora/framenet_v15.zip.\n",
            "[nltk_data]    | Downloading package framenet_v17 to\n",
            "[nltk_data]    |     /root/nltk_data...\n",
            "[nltk_data]    |   Unzipping corpora/framenet_v17.zip.\n",
            "[nltk_data]    | Downloading package gazetteers to /root/nltk_data...\n",
            "[nltk_data]    |   Unzipping corpora/gazetteers.zip.\n",
            "[nltk_data]    | Downloading package genesis to /root/nltk_data...\n",
            "[nltk_data]    |   Unzipping corpora/genesis.zip.\n",
            "[nltk_data]    | Downloading package gutenberg to /root/nltk_data...\n",
            "[nltk_data]    |   Unzipping corpora/gutenberg.zip.\n",
            "[nltk_data]    | Downloading package ieer to /root/nltk_data...\n",
            "[nltk_data]    |   Unzipping corpora/ieer.zip.\n",
            "[nltk_data]    | Downloading package inaugural to /root/nltk_data...\n",
            "[nltk_data]    |   Unzipping corpora/inaugural.zip.\n",
            "[nltk_data]    | Downloading package indian to /root/nltk_data...\n",
            "[nltk_data]    |   Unzipping corpora/indian.zip.\n",
            "[nltk_data]    | Downloading package jeita to /root/nltk_data...\n",
            "[nltk_data]    | Downloading package kimmo to /root/nltk_data...\n",
            "[nltk_data]    |   Unzipping corpora/kimmo.zip.\n",
            "[nltk_data]    | Downloading package knbc to /root/nltk_data...\n",
            "[nltk_data]    | Downloading package large_grammars to\n",
            "[nltk_data]    |     /root/nltk_data...\n",
            "[nltk_data]    |   Unzipping grammars/large_grammars.zip.\n",
            "[nltk_data]    | Downloading package lin_thesaurus to\n",
            "[nltk_data]    |     /root/nltk_data...\n",
            "[nltk_data]    |   Unzipping corpora/lin_thesaurus.zip.\n",
            "[nltk_data]    | Downloading package mac_morpho to /root/nltk_data...\n",
            "[nltk_data]    |   Unzipping corpora/mac_morpho.zip.\n",
            "[nltk_data]    | Downloading package machado to /root/nltk_data...\n",
            "[nltk_data]    | Downloading package masc_tagged to /root/nltk_data...\n",
            "[nltk_data]    | Downloading package maxent_ne_chunker to\n",
            "[nltk_data]    |     /root/nltk_data...\n",
            "[nltk_data]    |   Unzipping chunkers/maxent_ne_chunker.zip.\n",
            "[nltk_data]    | Downloading package maxent_treebank_pos_tagger to\n",
            "[nltk_data]    |     /root/nltk_data...\n",
            "[nltk_data]    |   Unzipping taggers/maxent_treebank_pos_tagger.zip.\n",
            "[nltk_data]    | Downloading package moses_sample to\n",
            "[nltk_data]    |     /root/nltk_data...\n",
            "[nltk_data]    |   Unzipping models/moses_sample.zip.\n",
            "[nltk_data]    | Downloading package movie_reviews to\n",
            "[nltk_data]    |     /root/nltk_data...\n",
            "[nltk_data]    |   Unzipping corpora/movie_reviews.zip.\n",
            "[nltk_data]    | Downloading package mte_teip5 to /root/nltk_data...\n",
            "[nltk_data]    |   Unzipping corpora/mte_teip5.zip.\n",
            "[nltk_data]    | Downloading package mwa_ppdb to /root/nltk_data...\n",
            "[nltk_data]    |   Unzipping misc/mwa_ppdb.zip.\n",
            "[nltk_data]    | Downloading package names to /root/nltk_data...\n",
            "[nltk_data]    |   Unzipping corpora/names.zip.\n",
            "[nltk_data]    | Downloading package nombank.1.0 to /root/nltk_data...\n",
            "[nltk_data]    | Downloading package nonbreaking_prefixes to\n",
            "[nltk_data]    |     /root/nltk_data...\n",
            "[nltk_data]    |   Unzipping corpora/nonbreaking_prefixes.zip.\n",
            "[nltk_data]    | Downloading package nps_chat to /root/nltk_data...\n",
            "[nltk_data]    |   Unzipping corpora/nps_chat.zip.\n",
            "[nltk_data]    | Downloading package omw to /root/nltk_data...\n",
            "[nltk_data]    | Downloading package omw-1.4 to /root/nltk_data...\n",
            "[nltk_data]    | Downloading package opinion_lexicon to\n",
            "[nltk_data]    |     /root/nltk_data...\n",
            "[nltk_data]    |   Unzipping corpora/opinion_lexicon.zip.\n",
            "[nltk_data]    | Downloading package panlex_swadesh to\n",
            "[nltk_data]    |     /root/nltk_data...\n",
            "[nltk_data]    | Downloading package paradigms to /root/nltk_data...\n",
            "[nltk_data]    |   Unzipping corpora/paradigms.zip.\n",
            "[nltk_data]    | Downloading package pe08 to /root/nltk_data...\n",
            "[nltk_data]    |   Unzipping corpora/pe08.zip.\n",
            "[nltk_data]    | Downloading package perluniprops to\n",
            "[nltk_data]    |     /root/nltk_data...\n",
            "[nltk_data]    |   Unzipping misc/perluniprops.zip.\n",
            "[nltk_data]    | Downloading package pil to /root/nltk_data...\n",
            "[nltk_data]    |   Unzipping corpora/pil.zip.\n",
            "[nltk_data]    | Downloading package pl196x to /root/nltk_data...\n",
            "[nltk_data]    |   Unzipping corpora/pl196x.zip.\n",
            "[nltk_data]    | Downloading package porter_test to /root/nltk_data...\n",
            "[nltk_data]    |   Unzipping stemmers/porter_test.zip.\n",
            "[nltk_data]    | Downloading package ppattach to /root/nltk_data...\n",
            "[nltk_data]    |   Unzipping corpora/ppattach.zip.\n",
            "[nltk_data]    | Downloading package problem_reports to\n",
            "[nltk_data]    |     /root/nltk_data...\n",
            "[nltk_data]    |   Unzipping corpora/problem_reports.zip.\n",
            "[nltk_data]    | Downloading package product_reviews_1 to\n",
            "[nltk_data]    |     /root/nltk_data...\n",
            "[nltk_data]    |   Unzipping corpora/product_reviews_1.zip.\n",
            "[nltk_data]    | Downloading package product_reviews_2 to\n",
            "[nltk_data]    |     /root/nltk_data...\n",
            "[nltk_data]    |   Unzipping corpora/product_reviews_2.zip.\n",
            "[nltk_data]    | Downloading package propbank to /root/nltk_data...\n",
            "[nltk_data]    | Downloading package pros_cons to /root/nltk_data...\n",
            "[nltk_data]    |   Unzipping corpora/pros_cons.zip.\n",
            "[nltk_data]    | Downloading package ptb to /root/nltk_data...\n",
            "[nltk_data]    |   Unzipping corpora/ptb.zip.\n",
            "[nltk_data]    | Downloading package punkt to /root/nltk_data...\n",
            "[nltk_data]    |   Unzipping tokenizers/punkt.zip.\n",
            "[nltk_data]    | Downloading package qc to /root/nltk_data...\n",
            "[nltk_data]    |   Unzipping corpora/qc.zip.\n",
            "[nltk_data]    | Downloading package reuters to /root/nltk_data...\n",
            "[nltk_data]    | Downloading package rslp to /root/nltk_data...\n",
            "[nltk_data]    |   Unzipping stemmers/rslp.zip.\n",
            "[nltk_data]    | Downloading package rte to /root/nltk_data...\n",
            "[nltk_data]    |   Unzipping corpora/rte.zip.\n",
            "[nltk_data]    | Downloading package sample_grammars to\n",
            "[nltk_data]    |     /root/nltk_data...\n",
            "[nltk_data]    |   Unzipping grammars/sample_grammars.zip.\n",
            "[nltk_data]    | Downloading package semcor to /root/nltk_data...\n",
            "[nltk_data]    | Downloading package senseval to /root/nltk_data...\n",
            "[nltk_data]    |   Unzipping corpora/senseval.zip.\n",
            "[nltk_data]    | Downloading package sentence_polarity to\n",
            "[nltk_data]    |     /root/nltk_data...\n",
            "[nltk_data]    |   Unzipping corpora/sentence_polarity.zip.\n",
            "[nltk_data]    | Downloading package sentiwordnet to\n",
            "[nltk_data]    |     /root/nltk_data...\n",
            "[nltk_data]    |   Unzipping corpora/sentiwordnet.zip.\n",
            "[nltk_data]    | Downloading package shakespeare to /root/nltk_data...\n",
            "[nltk_data]    |   Unzipping corpora/shakespeare.zip.\n",
            "[nltk_data]    | Downloading package sinica_treebank to\n",
            "[nltk_data]    |     /root/nltk_data...\n",
            "[nltk_data]    |   Unzipping corpora/sinica_treebank.zip.\n",
            "[nltk_data]    | Downloading package smultron to /root/nltk_data...\n",
            "[nltk_data]    |   Unzipping corpora/smultron.zip.\n",
            "[nltk_data]    | Downloading package snowball_data to\n",
            "[nltk_data]    |     /root/nltk_data...\n",
            "[nltk_data]    | Downloading package spanish_grammars to\n",
            "[nltk_data]    |     /root/nltk_data...\n",
            "[nltk_data]    |   Unzipping grammars/spanish_grammars.zip.\n",
            "[nltk_data]    | Downloading package state_union to /root/nltk_data...\n",
            "[nltk_data]    |   Unzipping corpora/state_union.zip.\n",
            "[nltk_data]    | Downloading package stopwords to /root/nltk_data...\n",
            "[nltk_data]    |   Unzipping corpora/stopwords.zip.\n",
            "[nltk_data]    | Downloading package subjectivity to\n",
            "[nltk_data]    |     /root/nltk_data...\n",
            "[nltk_data]    |   Unzipping corpora/subjectivity.zip.\n",
            "[nltk_data]    | Downloading package swadesh to /root/nltk_data...\n",
            "[nltk_data]    |   Unzipping corpora/swadesh.zip.\n",
            "[nltk_data]    | Downloading package switchboard to /root/nltk_data...\n",
            "[nltk_data]    |   Unzipping corpora/switchboard.zip.\n",
            "[nltk_data]    | Downloading package tagsets to /root/nltk_data...\n",
            "[nltk_data]    |   Unzipping help/tagsets.zip.\n",
            "[nltk_data]    | Downloading package timit to /root/nltk_data...\n",
            "[nltk_data]    |   Unzipping corpora/timit.zip.\n",
            "[nltk_data]    | Downloading package toolbox to /root/nltk_data...\n",
            "[nltk_data]    |   Unzipping corpora/toolbox.zip.\n",
            "[nltk_data]    | Downloading package treebank to /root/nltk_data...\n",
            "[nltk_data]    |   Unzipping corpora/treebank.zip.\n",
            "[nltk_data]    | Downloading package twitter_samples to\n",
            "[nltk_data]    |     /root/nltk_data...\n",
            "[nltk_data]    |   Unzipping corpora/twitter_samples.zip.\n",
            "[nltk_data]    | Downloading package udhr to /root/nltk_data...\n",
            "[nltk_data]    |   Unzipping corpora/udhr.zip.\n",
            "[nltk_data]    | Downloading package udhr2 to /root/nltk_data...\n",
            "[nltk_data]    |   Unzipping corpora/udhr2.zip.\n",
            "[nltk_data]    | Downloading package unicode_samples to\n",
            "[nltk_data]    |     /root/nltk_data...\n",
            "[nltk_data]    |   Unzipping corpora/unicode_samples.zip.\n",
            "[nltk_data]    | Downloading package universal_tagset to\n",
            "[nltk_data]    |     /root/nltk_data...\n",
            "[nltk_data]    |   Unzipping taggers/universal_tagset.zip.\n",
            "[nltk_data]    | Downloading package universal_treebanks_v20 to\n",
            "[nltk_data]    |     /root/nltk_data...\n",
            "[nltk_data]    | Downloading package vader_lexicon to\n",
            "[nltk_data]    |     /root/nltk_data...\n",
            "[nltk_data]    | Downloading package verbnet to /root/nltk_data...\n",
            "[nltk_data]    |   Unzipping corpora/verbnet.zip.\n",
            "[nltk_data]    | Downloading package verbnet3 to /root/nltk_data...\n",
            "[nltk_data]    |   Unzipping corpora/verbnet3.zip.\n",
            "[nltk_data]    | Downloading package webtext to /root/nltk_data...\n",
            "[nltk_data]    |   Unzipping corpora/webtext.zip.\n",
            "[nltk_data]    | Downloading package wmt15_eval to /root/nltk_data...\n",
            "[nltk_data]    |   Unzipping models/wmt15_eval.zip.\n",
            "[nltk_data]    | Downloading package word2vec_sample to\n",
            "[nltk_data]    |     /root/nltk_data...\n",
            "[nltk_data]    |   Unzipping models/word2vec_sample.zip.\n",
            "[nltk_data]    | Downloading package wordnet to /root/nltk_data...\n",
            "[nltk_data]    | Downloading package wordnet2021 to /root/nltk_data...\n",
            "[nltk_data]    | Downloading package wordnet2022 to /root/nltk_data...\n",
            "[nltk_data]    |   Unzipping corpora/wordnet2022.zip.\n",
            "[nltk_data]    | Downloading package wordnet31 to /root/nltk_data...\n",
            "[nltk_data]    | Downloading package wordnet_ic to /root/nltk_data...\n",
            "[nltk_data]    |   Unzipping corpora/wordnet_ic.zip.\n",
            "[nltk_data]    | Downloading package words to /root/nltk_data...\n",
            "[nltk_data]    |   Unzipping corpora/words.zip.\n",
            "[nltk_data]    | Downloading package ycoe to /root/nltk_data...\n",
            "[nltk_data]    |   Unzipping corpora/ycoe.zip.\n",
            "[nltk_data]    | \n",
            "[nltk_data]  Done downloading collection all\n"
          ]
        },
        {
          "output_type": "execute_result",
          "data": {
            "text/plain": [
              "True"
            ]
          },
          "metadata": {},
          "execution_count": 13
        }
      ]
    },
    {
      "cell_type": "code",
      "source": [
        "#tokenize the data into features (words); display them\n",
        "from nltk.tokenize import word_tokenize\n",
        "features = word_tokenize(recognized_text)\n",
        "print(features)"
      ],
      "metadata": {
        "id": "-8FV7st-OVTc",
        "colab": {
          "base_uri": "https://localhost:8080/"
        },
        "outputId": "d9d6c192-ad60-4200-e525-0d71fb79e222"
      },
      "execution_count": null,
      "outputs": [
        {
          "output_type": "stream",
          "name": "stdout",
          "text": [
            "['It', 'was', 'the', 'best', 'of', 'times', ',', 'it', 'was', 'the', 'worst', 'of', 'times', ',', 'it', 'was', 'the', 'age', 'of', 'wisdom', ';', 'it', 'was', 'the', 'age', 'of', 'foolishness', '.']\n"
          ]
        }
      ]
    },
    {
      "cell_type": "code",
      "source": [
        "# normalize the features to lower case and exclude punctuation\n",
        "features = [feature for feature in features if feature.isalpha()]\n",
        "features = [feature.lower() for feature in features]\n",
        "print(features)"
      ],
      "metadata": {
        "id": "WmHuQrrUOVc5",
        "colab": {
          "base_uri": "https://localhost:8080/"
        },
        "outputId": "dd269afb-0d4d-421a-d971-3c98a188e95e"
      },
      "execution_count": null,
      "outputs": [
        {
          "output_type": "stream",
          "name": "stdout",
          "text": [
            "['it', 'was', 'the', 'best', 'of', 'times', 'it', 'was', 'the', 'worst', 'of', 'times', 'it', 'was', 'the', 'age', 'of', 'wisdom', 'it', 'was', 'the', 'age', 'of', 'foolishness']\n"
          ]
        }
      ]
    },
    {
      "cell_type": "code",
      "source": [
        "# create a list of (English) stopwords, and then remove them from the features\n",
        "from nltk.corpus import stopwords\n",
        "stopwords = stopwords.words('english')\n",
        "features = [feature for feature in features if feature not in stopwords]"
      ],
      "metadata": {
        "id": "Mt3TpemFOVle"
      },
      "execution_count": null,
      "outputs": []
    },
    {
      "cell_type": "code",
      "source": [
        "# count & tabulate the features, and then plot the results -- season to taste\n",
        "from nltk import FreqDist\n",
        "frequencies = FreqDist(features)\n",
        "plot = frequencies.plot(10)"
      ],
      "metadata": {
        "id": "m5tj5ryyOV6R",
        "colab": {
          "base_uri": "https://localhost:8080/",
          "height": 513
        },
        "outputId": "9c9838c5-1050-46ba-fcc1-ac15efbaac12"
      },
      "execution_count": null,
      "outputs": [
        {
          "output_type": "display_data",
          "data": {
            "text/plain": [
              "<Figure size 640x480 with 1 Axes>"
            ],
            "image/png": "[encoded data removed]"
          },
          "metadata": {}
        }
      ]
    },
    {
      "cell_type": "code",
      "source": [
        "# create a list of unique words (hapaxes); display them\n",
        "hapaxes = frequencies.hapaxes()\n",
        "print(hapaxes)"
      ],
      "metadata": {
        "id": "W0DBYugTOWFO",
        "colab": {
          "base_uri": "https://localhost:8080/"
        },
        "outputId": "89726687-c55b-4d5d-ba45-22c1d8992053"
      },
      "execution_count": null,
      "outputs": [
        {
          "output_type": "stream",
          "name": "stdout",
          "text": [
            "['best', 'worst', 'wisdom', 'foolishness']\n"
          ]
        }
      ]
    },
    {
      "cell_type": "code",
      "source": [
        "# count & tabulate ngrams from the features -- season to taste; display some\n",
        "from nltk import ngrams\n",
        "ngrams = ngrams(features, 2)\n",
        "frequencies = FreqDist(ngrams)\n",
        "frequencies.most_common(10)"
      ],
      "metadata": {
        "id": "oIuN6ss5OWRA",
        "colab": {
          "base_uri": "https://localhost:8080/"
        },
        "outputId": "7a53c22b-dd2d-4a93-8381-6cf4a45df7d7"
      },
      "execution_count": null,
      "outputs": [
        {
          "output_type": "execute_result",
          "data": {
            "text/plain": [
              "[(('best', 'times'), 1),\n",
              " (('times', 'worst'), 1),\n",
              " (('worst', 'times'), 1),\n",
              " (('times', 'age'), 1),\n",
              " (('age', 'wisdom'), 1),\n",
              " (('wisdom', 'age'), 1),\n",
              " (('age', 'foolishness'), 1)]"
            ]
          },
          "metadata": {},
          "execution_count": 19
        }
      ]
    },
    {
      "cell_type": "code",
      "source": [
        "# create a list each token's length, and plot the result; How many \"long\" words are there?\n",
        "lengths = [len(feature) for feature in features]\n",
        "plot = FreqDist(lengths).plot(10)"
      ],
      "metadata": {
        "id": "sF0OLS8iOWbn",
        "colab": {
          "base_uri": "https://localhost:8080/",
          "height": 453
        },
        "outputId": "d86a4caa-df7b-4616-a3e2-0f00dd4d166e"
      },
      "execution_count": null,
      "outputs": [
        {
          "output_type": "display_data",
          "data": {
            "text/plain": [
              "<Figure size 640x480 with 1 Axes>"
            ],
            "image/png": "[encoded data removed]"
          },
          "metadata": {}
        }
      ]
    },
    {
      "cell_type": "code",
      "source": [
        "# initialize a stemmer, stem the features, count & tabulate, and output\n",
        "from nltk.stem import PorterStemmer\n",
        "stemmer = PorterStemmer()\n",
        "stems = [stemmer.stem(feature) for feature in features]\n",
        "frequencies = FreqDist(stems)\n",
        "frequencies.most_common(10)"
      ],
      "metadata": {
        "id": "jF22W13ROWnN",
        "colab": {
          "base_uri": "https://localhost:8080/"
        },
        "outputId": "7a18f6a4-9dcc-4256-c797-007f9c85f6c7"
      },
      "execution_count": null,
      "outputs": [
        {
          "output_type": "execute_result",
          "data": {
            "text/plain": [
              "[('time', 2),\n",
              " ('age', 2),\n",
              " ('best', 1),\n",
              " ('worst', 1),\n",
              " ('wisdom', 1),\n",
              " ('foolish', 1)]"
            ]
          },
          "metadata": {},
          "execution_count": 21
        }
      ]
    },
    {
      "cell_type": "code",
      "source": [
        "# re-create the features and create a NLTK Text object, so other cool things can be done\n",
        "from nltk import Text\n",
        "features = word_tokenize(recognized_text)\n",
        "text = Text(features)"
      ],
      "metadata": {
        "id": "Sys3_n5HOWxo"
      },
      "execution_count": null,
      "outputs": []
    },
    {
      "cell_type": "markdown",
      "source": [
        "This code snippet prepares the obtained text from the *OCR* for linguistic analysis using the *Natural Language Toolkit (NLTK)* in Python. Here's a step-by-step explanation:\n",
        "\n",
        "**Tokenization:**\n",
        "\n",
        "The `word_tokenize` function is employed to dissect the `recognized_text` into a sequence of tokens or words. This is a necessary preliminary step for textual analysis, enabling the detailed examination of the text's structure and content.\n",
        "\n",
        "**Creating an NLTK Text Object:**\n",
        "\n",
        "After tokenization, an *NLTK* `Text` object is created by passing the `features` list to the `Text` class constructor. The `Text` class is a part of the NLTK library designed to facilitate `text` analysis and exploration. By converting the list of tokens into a `Text` object, stored in the variable `text`, the snippet enables the use of various sophisticated linguistic analysis tools provided by NLTK. These tools include functionalities for concordance views, similar word searches, lexical dispersion plots, and much more, thereby allowing for \"other cool things\" to be done with the processed text.\n",
        "\n",
        "This process is crucial for transforming recognized text into a form that is amenable to in-depth linguistic analysis, thereby opening up a plethora of possibilities for exploring and understanding the textual data."
      ],
      "metadata": {
        "id": "TJ6SKQG0PJNT"
      }
    },
    {
      "cell_type": "code",
      "source": [
        "# count & tabulate, again; list a given word -- season to taste\n",
        "frequencies = FreqDist(text)\n",
        "print(frequencies['it'])"
      ],
      "metadata": {
        "id": "2rNln4xtOW7S",
        "colab": {
          "base_uri": "https://localhost:8080/"
        },
        "outputId": "1c130ea6-ae22-4bee-f109-f51453e9367b"
      },
      "execution_count": null,
      "outputs": [
        {
          "output_type": "stream",
          "name": "stdout",
          "text": [
            "3\n"
          ]
        }
      ]
    },
    {
      "cell_type": "markdown",
      "source": [
        "This code snippet continues the process of text analysis by counting and tabulating the frequency of words within a given text, and then specifically listing the frequency of a chosen word, in this case, \"it\". Here’s a detailed explanation:\n",
        "\n",
        "**Counting and Tabulating Frequencies:**\n",
        "\n",
        "The `FreqDist` function from the *Natural Language Toolkit (NLTK)* is utilized to create a frequency distribution of all words within the `text` object. The `text` object is expected to be an instance of *NLTK*'s `Text` class, which represents a sequence of tokens (words) extracted from a text source, potentially through processes like *Optical Character Recognition (OCR)* or manual `text` input. The FreqDist function computes how many times each word occurs within the `text` and stores this information in the variable `frequencies`, which essentially becomes a dictionary where keys are words and values are the counts of those words.\n",
        "\n",
        "**Listing the Frequency of a Specific Word:**\n",
        "\n",
        "The next line of the code, `print(frequencies['it'])`, accesses the frequency of the word \"it\" within the `text` by using the word as a key to look up in the `frequencies` dictionary. The frequency, or count, of the word \"it\" is then printed to the console. This operation is akin to \"seasoning to taste,\" as the specific word whose frequency is of interest can be easily changed by replacing \"it\" with any other word present in the text.\n",
        "\n",
        "This snippet is a practical example of how text analysis techniques can be applied to explore and understand the composition and characteristics of textual data, allowing for detailed examinations of word usage and frequency within a given text."
      ],
      "metadata": {
        "id": "q9VwEjW6SCue"
      }
    },
    {
      "cell_type": "code",
      "source": [
        "# do keyword-in-context searching against the text (concordancing)\n",
        "print(text.concordance('it'))"
      ],
      "metadata": {
        "id": "LkEMOSEdOlmW",
        "colab": {
          "base_uri": "https://localhost:8080/"
        },
        "outputId": "d13aee66-6ad7-414f-f47f-79ca083320b3"
      },
      "execution_count": null,
      "outputs": [
        {
          "output_type": "stream",
          "name": "stdout",
          "text": [
            "Displaying 4 of 4 matches:\n",
            " It was the best of times , it was the wo\n",
            "It was the best of times , it was the worst of times , it was the a\n",
            "f times , it was the worst of times , it was the age of wisdom ; it was the ag\n",
            "of times , it was the age of wisdom ; it was the age of foolishness .\n",
            "None\n"
          ]
        }
      ]
    },
    {
      "cell_type": "markdown",
      "source": [
        "This code snippet is focused on performing a *keyword-in-context (KWIC)* search, also known as concordancing, against a given text using the *Natural Language Toolkit (NLTK)* in Python. Here’s a step-by-step explanation:\n",
        "\n",
        "**Keyword-in-Context Searching (Concordancing):**\n",
        "\n",
        "This step involves using the `concordance` method on the `text` object to find and display every occurrence of the word `'it'`, along with the surrounding text, providing a snapshot of the word's usage across the entire text.\n",
        "\n",
        "**Printing the Concordance Results:**\n",
        "\n",
        "While the `concordance` method automatically prints the results, the `print` function is used in this snippet. However, since `concordance` prints its output directly and returns `None`, the use of `print` is not essential and does not affect the display of the concordance lines.\n",
        "\n",
        "By executing this snippet, users can gain insight into the contexts in which a particular word is used within a body of text, which is a valuable technique for linguistic analysis, literature studies, and understanding the nuances of language usage."
      ],
      "metadata": {
        "id": "it-qwdudTRVu"
      }
    },
    {
      "cell_type": "code",
      "source": [
        "# create a dispersion plot of given words\n",
        "plot = text.dispersion_plot(['it', 'a', 'time'])"
      ],
      "metadata": {
        "id": "4_XX12zKOmlP",
        "colab": {
          "base_uri": "https://localhost:8080/",
          "height": 472
        },
        "outputId": "40c79e2f-d12c-4d07-d56a-20df80d72ec4"
      },
      "execution_count": null,
      "outputs": [
        {
          "output_type": "display_data",
          "data": {
            "text/plain": [
              "<Figure size 640x480 with 1 Axes>"
            ],
            "image/png": "[encoded data removed]"
          },
          "metadata": {}
        }
      ]
    },
    {
      "cell_type": "markdown",
      "source": [
        "\n",
        "This code snippet demonstrates how to create a lexical dispersion plot for a set of specified words within a text using the *Natural Language Toolkit (NLTK)* in Python. Here’s a step-by-step explanation:\n",
        "\n",
        "**Creating a Lexical Dispersion Plot:**\n",
        "\n",
        "This step involves generating a plot that visually represents the distribution and frequency of occurrences of the specified words `('it', 'a', and 'time')` throughout the text. This visualization helps in understanding the usage dynamics of these words across the text.\n",
        "\n",
        "**Assigning the Plot to a Variable:**\n",
        "\n",
        "The assignment of the plot creation method to plot is included in the code snippet, but it does not hold or manipulate the `plot`, as the `dispersion_plot` method acts by side effect (displaying the plot) and does not return a plot object.\n",
        "\n",
        "The dispersion plot is a powerful analytical tool for examining the behavior of words within a text, allowing researchers, students, and enthusiasts to uncover patterns and insights about word usage, thematic elements, and the structure of the textual content."
      ],
      "metadata": {
        "id": "wip8hb8wUNn2"
      }
    },
    {
      "cell_type": "code",
      "source": [
        "# output the \"most significant\" bigrams, considering surrounding words (size of window) -- season to taste\n",
        "text.collocations(num=20, window_size=4)"
      ],
      "metadata": {
        "id": "NYteIbMiOnex",
        "colab": {
          "base_uri": "https://localhost:8080/"
        },
        "outputId": "2072a19f-3fcc-4ccd-b201-39be7dcdc504"
      },
      "execution_count": null,
      "outputs": [
        {
          "output_type": "stream",
          "name": "stdout",
          "text": [
            "\n"
          ]
        }
      ]
    },
    {
      "cell_type": "markdown",
      "source": [
        "\n",
        "This code snippet is aimed at identifying and outputting the \"most significant\" bigrams within a given text using the *Natural Language Toolkit (NLTK)* in Python, with an adjustable consideration for the context size around each bigram, often referred to as the \"window size\". Here’s a detailed explanation:\n",
        "\n",
        "**Identifying Significant Bigrams:**\n",
        "\n",
        "Using the `collocations` method, this step involves discovering and listing the top 20 bigrams that are statistically significant based on their frequency of occurrence and their context within the text, considering a window size of 4 words around each word.\n",
        "\n",
        "**Outputting the Significant Bigrams:**\n",
        "\n",
        "The method automatically prints the list of significant bigrams to the console, providing a straightforward way to examine the most notable word pairs in the text.\n",
        "\n",
        "By exploring significant bigrams with adjustable context size, this snippet facilitates a nuanced analysis of the text, enhancing understanding of its linguistic structure, thematic consistencies, or distinctive language patterns."
      ],
      "metadata": {
        "id": "ZEHSPthLUdrz"
      }
    },
    {
      "cell_type": "code",
      "source": [
        " # given a set of words, what words are nearby\n",
        "text.common_contexts(['wisdom'])"
      ],
      "metadata": {
        "id": "SSAzdWxBOoYJ",
        "colab": {
          "base_uri": "https://localhost:8080/"
        },
        "outputId": "cd6a8fdc-97c3-4a76-96ec-00e345d0da36"
      },
      "execution_count": null,
      "outputs": [
        {
          "output_type": "stream",
          "name": "stdout",
          "text": [
            "of_;\n"
          ]
        }
      ]
    },
    {
      "cell_type": "markdown",
      "source": [
        "This code snippet demonstrates how to find and display common contexts for a specified set of words, in this case, a single word \"wisdom\", within a given text using the *Natural Language Toolkit (NLTK)* in Python. Here's a step-by-step explanation:\n",
        "\n",
        "**Finding Common Contexts for a Set of Words:**\n",
        "\n",
        "By invoking the `common_contexts` method with a list containing the word `'wisdom'`, this step focuses on identifying the immediate linguistic environment where `'wisdom'` occurs within the text. This method assesses the usage patterns of `'wisdom'`by examining the words that commonly flank it.\n",
        "\n",
        "**Displaying Common Contexts:**\n",
        "\n",
        "The common contexts discovered by the method are automatically output to the console, showing where and how the word `'wisdom'` is typically used within the text's linguistic structure.\n",
        "\n",
        "This approach is particularly useful for linguistic and literary analysis, offering a lens through which to examine the connotations and thematic connections of specific words within a text. It enhances the understanding of a word's role and its interaction with other words, contributing to a deeper appreciation of the text's complexity and nuance."
      ],
      "metadata": {
        "id": "2jNmTrOhVgrV"
      }
    },
    {
      "cell_type": "code",
      "source": [
        "# list the words (features) most associated with the given word\n",
        "text.similar('wisdom')"
      ],
      "metadata": {
        "id": "wIXntKXAOpPV",
        "colab": {
          "base_uri": "https://localhost:8080/"
        },
        "outputId": "3533dc97-12cf-4ccd-bb1f-2fff1661c10a"
      },
      "execution_count": null,
      "outputs": [
        {
          "output_type": "stream",
          "name": "stdout",
          "text": [
            "\n"
          ]
        }
      ]
    },
    {
      "cell_type": "markdown",
      "source": [
        "This code snippet is designed to find and list words that are most similar to the specified word \"wisdom\" within a given text, utilizing the *Natural Language Toolkit (NLTK)* in Python. Here’s a detailed explanation:\n",
        "\n",
        "**Listing Words Most Similar to a Given Word:**\n",
        "\n",
        "By utilizing the `similar` method, this step involves identifying and listing words that share similar contexts with the word \"wisdom\" in the text. This is based on the analysis of where and how these words are used in relation to the surrounding words.\n",
        "\n",
        "**Outputting Similar Words:**\n",
        "\n",
        "The method automatically prints the similar words to the console, providing insights into the semantic network and usage patterns associated with \"wisdom\" within the text.\n",
        "\n",
        "This functionality is particularly useful for linguistic analysis, offering insights into the lexical and semantic landscape of a text. It helps in understanding how words are related to each other within the text, uncovering synonyms, thematic connections, and the broader linguistic environment of a specified word."
      ],
      "metadata": {
        "id": "yCBuu5MEYM1Q"
      }
    },
    {
      "cell_type": "code",
      "source": [
        "# create a list of sentences, and display one -- season to taste\n",
        "from nltk import sent_tokenize\n",
        "sentences = sent_tokenize(recognized_text)\n",
        "index = int(input(\"Enter the number of the sentence you wish to access: \"))\n",
        "if index - 1 < len(sentences):\n",
        "    sentence = sentences[index - 1]\n",
        "    print(sentence)\n",
        "else:\n",
        "    if len(sentences) == 1:\n",
        "        print(f\"That number is out of range. The text only has {len(sentences)} sentence.\")\n",
        "    else:\n",
        "        print(f\"That number is out of range. The text only has {len(sentences)} sentences.\")"
      ],
      "metadata": {
        "id": "-dgGzwgLOqaR",
        "colab": {
          "base_uri": "https://localhost:8080/"
        },
        "outputId": "bd61557c-7cce-482f-ee39-23b9460efba3"
      },
      "execution_count": null,
      "outputs": [
        {
          "output_type": "stream",
          "name": "stdout",
          "text": [
            "Enter the number of the sentence you wish to access: 1\n",
            "It was the best of times, it was the worst of times, it was the age of wisdom; it was the age of foolishness .\n"
          ]
        }
      ]
    },
    {
      "cell_type": "markdown",
      "source": [
        "This code snippet demonstrates how to tokenize a block of text into sentences, then allows a user to select and display a specific sentence by entering its number. Here's a step-by-step explanation:\n",
        "\n",
        "**Tokenizing Text into Sentences:**\n",
        "\n",
        "The block of text is split into individual sentences using the `sent_tokenize` function, resulting in a list where each item is a separate sentence.\n",
        "\n",
        "**Accessing and Displaying a Specific Sentence:**\n",
        "\n",
        "The user is prompted to select a sentence by number. The code then validates this input and either displays the chosen sentence or informs the user if the requested number is out of the specified range.\n",
        "\n",
        "This approach enables detailed examination of the text at the sentence level, facilitating analyses or operations that require access to individual sentences within a larger body of text."
      ],
      "metadata": {
        "id": "iOoXfpvCYZn-"
      }
    },
    {
      "cell_type": "code",
      "source": [
        "# tokenize the sentence and parse it into parts-of-speech, all in one go\n",
        "from nltk import pos_tag\n",
        "sentence = pos_tag(word_tokenize(sentence))\n",
        "print(sentence)"
      ],
      "metadata": {
        "id": "eLX6cFQgOroc",
        "colab": {
          "base_uri": "https://localhost:8080/"
        },
        "outputId": "811592db-2fef-4e22-a1ba-1a469339c5b9"
      },
      "execution_count": null,
      "outputs": [
        {
          "output_type": "stream",
          "name": "stdout",
          "text": [
            "[('It', 'PRP'), ('was', 'VBD'), ('the', 'DT'), ('best', 'JJS'), ('of', 'IN'), ('times', 'NNS'), (',', ','), ('it', 'PRP'), ('was', 'VBD'), ('the', 'DT'), ('worst', 'JJS'), ('of', 'IN'), ('times', 'NNS'), (',', ','), ('it', 'PRP'), ('was', 'VBD'), ('the', 'DT'), ('age', 'NN'), ('of', 'IN'), ('wisdom', 'NN'), (';', ':'), ('it', 'PRP'), ('was', 'VBD'), ('the', 'DT'), ('age', 'NN'), ('of', 'IN'), ('foolishness', 'NN'), ('.', '.')]\n"
          ]
        }
      ]
    },
    {
      "cell_type": "markdown",
      "source": [
        "This code snippet demonstrates how to tokenize a given sentence into individual words and then annotate each token with its corresponding *part-of-speech (POS)* tag, all in one go using the *Natural Language Toolkit (NLTK)* in Python. Here's a detailed explanation:\n",
        "\n",
        "**Tokenizing and POS Tagging:**\n",
        "\n",
        "The sentence is first tokenized into individual words. These tokens are then annotated with part-of-speech tags, which classify each word according to its grammatical category (such as noun, verb, adjective, etc.), based on both its definition and its context within the sentence.\n",
        "\n",
        "**Displaying Tokenized and Tagged Sentence:**\n",
        "\n",
        "The resulting list of tuples, each containing a word and its POS tag, is printed to the console. This output offers a clear view of the grammatical composition of the sentence, which can be useful for linguistic analysis, natural language processing tasks, or simply for educational purposes.\n",
        "\n",
        "This snippet effectively combines the processes of word tokenization and part-of-speech tagging into a single streamlined operation, showcasing the powerful linguistic analysis capabilities provided by NLTK."
      ],
      "metadata": {
        "id": "RPvQMsWpZKMa"
      }
    },
    {
      "cell_type": "code",
      "source": [
        " # extract named enities from a sentence, and print the results\n",
        "from nltk import ne_chunk\n",
        "entities = ne_chunk(sentence)\n",
        "print(entities)"
      ],
      "metadata": {
        "id": "84lg42BFOsUG",
        "colab": {
          "base_uri": "https://localhost:8080/"
        },
        "outputId": "02618641-220d-4258-ae73-67877850dc06"
      },
      "execution_count": null,
      "outputs": [
        {
          "output_type": "stream",
          "name": "stdout",
          "text": [
            "(S\n",
            "  It/PRP\n",
            "  was/VBD\n",
            "  the/DT\n",
            "  best/JJS\n",
            "  of/IN\n",
            "  times/NNS\n",
            "  ,/,\n",
            "  it/PRP\n",
            "  was/VBD\n",
            "  the/DT\n",
            "  worst/JJS\n",
            "  of/IN\n",
            "  times/NNS\n",
            "  ,/,\n",
            "  it/PRP\n",
            "  was/VBD\n",
            "  the/DT\n",
            "  age/NN\n",
            "  of/IN\n",
            "  wisdom/NN\n",
            "  ;/:\n",
            "  it/PRP\n",
            "  was/VBD\n",
            "  the/DT\n",
            "  age/NN\n",
            "  of/IN\n",
            "  foolishness/NN\n",
            "  ./.)\n"
          ]
        }
      ]
    },
    {
      "cell_type": "markdown",
      "source": [
        "This code snippet is focused on extracting named entities from a sentence and printing the results using the *Natural Language Toolkit (NLTK)* in Python. Here's a detailed explanation:\n",
        "\n",
        "**Extracting Named Entities:**\n",
        "\n",
        "This step involves applying the `ne_chunk` function to a part-of-speech tagged sentence. The function identifies and classifies named entities within the sentence based on their context and the part-of-speech tags of their constituent words.\n",
        "\n",
        "**Printing the Named Entities:**\n",
        "\n",
        "The resulting tree structure, which represents the named entities extracted from the sentence, is printed to the console. This output provides a clear view of the named entities identified in the sentence, along with their classification into various types.\n",
        "\n",
        "This snippet showcases how NLTK can be used for named entity recognition, a crucial task in many natural language processing and information extraction applications. The ability to identify and categorize named entities in text is valuable for understanding the content and context of documents, enhancing search and analysis capabilities."
      ],
      "metadata": {
        "id": "Co950Q3IcLkx"
      }
    },
    {
      "cell_type": "code",
      "source": [
        "# output the entites graphically\n",
        "entities"
      ],
      "metadata": {
        "id": "1jWmsLjtOtio",
        "colab": {
          "base_uri": "https://localhost:8080/",
          "height": 141
        },
        "outputId": "10f7038a-9974-40b7-f0ce-a2e83d3c01f9"
      },
      "execution_count": null,
      "outputs": [
        {
          "output_type": "execute_result",
          "data": {
            "text/plain": [
              "Tree('S', [('It', 'PRP'), ('was', 'VBD'), ('the', 'DT'), ('best', 'JJS'), ('of', 'IN'), ('times', 'NNS'), (',', ','), ('it', 'PRP'), ('was', 'VBD'), ('the', 'DT'), ('worst', 'JJS'), ('of', 'IN'), ('times', 'NNS'), (',', ','), ('it', 'PRP'), ('was', 'VBD'), ('the', 'DT'), ('age', 'NN'), ('of', 'IN'), ('wisdom', 'NN'), (';', ':'), ('it', 'PRP'), ('was', 'VBD'), ('the', 'DT'), ('age', 'NN'), ('of', 'IN'), ('foolishness', 'NN'), ('.', '.')])"
            ],
            "image/svg+xml": "<svg baseProfile=\"full\" height=\"120px\" preserveAspectRatio=\"xMidYMid meet\" style=\"font-family: times, serif; font-weight: normal; font-style: normal; font-size: 16px;\" version=\"1.1\" viewBox=\"0,0,1168.0,120.0\" width=\"1168px\" xmlns=\"http://www.w3.org/2000/svg\" xmlns:ev=\"http://www.w3.org/2001/xml-events\" xmlns:xlink=\"http://www.w3.org/1999/xlink\"><defs /><svg width=\"100%\" x=\"0\" y=\"0px\"><defs /><text text-anchor=\"middle\" x=\"50%\" y=\"16px\">S</text></svg><svg width=\"3.42466%\" x=\"0%\" y=\"48px\"><defs /><svg width=\"100%\" x=\"0\" y=\"0px\"><defs /><text text-anchor=\"middle\" x=\"50%\" y=\"16px\">It</text></svg><svg width=\"100%\" x=\"0%\" y=\"48px\"><defs /><svg width=\"100%\" x=\"0\" y=\"0px\"><defs /><text text-anchor=\"middle\" x=\"50%\" y=\"16px\">PRP</text></svg></svg><line stroke=\"black\" x1=\"50%\" x2=\"50%\" y1=\"19.2px\" y2=\"48px\" /></svg><line stroke=\"black\" x1=\"50%\" x2=\"1.71233%\" y1=\"19.2px\" y2=\"48px\" /><svg width=\"3.42466%\" x=\"3.42466%\" y=\"48px\"><defs /><svg width=\"100%\" x=\"0\" y=\"0px\"><defs /><text text-anchor=\"middle\" x=\"50%\" y=\"16px\">was</text></svg><svg width=\"100%\" x=\"0%\" y=\"48px\"><defs /><svg width=\"100%\" x=\"0\" y=\"0px\"><defs /><text text-anchor=\"middle\" x=\"50%\" y=\"16px\">VBD</text></svg></svg><line stroke=\"black\" x1=\"50%\" x2=\"50%\" y1=\"19.2px\" y2=\"48px\" /></svg><line stroke=\"black\" x1=\"50%\" x2=\"5.13699%\" y1=\"19.2px\" y2=\"48px\" /><svg width=\"3.42466%\" x=\"6.84932%\" y=\"48px\"><defs /><svg width=\"100%\" x=\"0\" y=\"0px\"><defs /><text text-anchor=\"middle\" x=\"50%\" y=\"16px\">the</text></svg><svg width=\"100%\" x=\"0%\" y=\"48px\"><defs /><svg width=\"100%\" x=\"0\" y=\"0px\"><defs /><text text-anchor=\"middle\" x=\"50%\" y=\"16px\">DT</text></svg></svg><line stroke=\"black\" x1=\"50%\" x2=\"50%\" y1=\"19.2px\" y2=\"48px\" /></svg><line stroke=\"black\" x1=\"50%\" x2=\"8.56164%\" y1=\"19.2px\" y2=\"48px\" /><svg width=\"4.10959%\" x=\"10.274%\" y=\"48px\"><defs /><svg width=\"100%\" x=\"0\" y=\"0px\"><defs /><text text-anchor=\"middle\" x=\"50%\" y=\"16px\">best</text></svg><svg width=\"100%\" x=\"0%\" y=\"48px\"><defs /><svg width=\"100%\" x=\"0\" y=\"0px\"><defs /><text text-anchor=\"middle\" x=\"50%\" y=\"16px\">JJS</text></svg></svg><line stroke=\"black\" x1=\"50%\" x2=\"50%\" y1=\"19.2px\" y2=\"48px\" /></svg><line stroke=\"black\" x1=\"50%\" x2=\"12.3288%\" y1=\"19.2px\" y2=\"48px\" /><svg width=\"2.73973%\" x=\"14.3836%\" y=\"48px\"><defs /><svg width=\"100%\" x=\"0\" y=\"0px\"><defs /><text text-anchor=\"middle\" x=\"50%\" y=\"16px\">of</text></svg><svg width=\"100%\" x=\"0%\" y=\"48px\"><defs /><svg width=\"100%\" x=\"0\" y=\"0px\"><defs /><text text-anchor=\"middle\" x=\"50%\" y=\"16px\">IN</text></svg></svg><line stroke=\"black\" x1=\"50%\" x2=\"50%\" y1=\"19.2px\" y2=\"48px\" /></svg><line stroke=\"black\" x1=\"50%\" x2=\"15.7534%\" y1=\"19.2px\" y2=\"48px\" /><svg width=\"4.79452%\" x=\"17.1233%\" y=\"48px\"><defs /><svg width=\"100%\" x=\"0\" y=\"0px\"><defs /><text text-anchor=\"middle\" x=\"50%\" y=\"16px\">times</text></svg><svg width=\"100%\" x=\"0%\" y=\"48px\"><defs /><svg width=\"100%\" x=\"0\" y=\"0px\"><defs /><text text-anchor=\"middle\" x=\"50%\" y=\"16px\">NNS</text></svg></svg><line stroke=\"black\" x1=\"50%\" x2=\"50%\" y1=\"19.2px\" y2=\"48px\" /></svg><line stroke=\"black\" x1=\"50%\" x2=\"19.5205%\" y1=\"19.2px\" y2=\"48px\" /><svg width=\"2.05479%\" x=\"21.9178%\" y=\"48px\"><defs /><svg width=\"100%\" x=\"0\" y=\"0px\"><defs /><text text-anchor=\"middle\" x=\"50%\" y=\"16px\">,</text></svg><svg width=\"100%\" x=\"0%\" y=\"48px\"><defs /><svg width=\"100%\" x=\"0\" y=\"0px\"><defs /><text text-anchor=\"middle\" x=\"50%\" y=\"16px\">,</text></svg></svg><line stroke=\"black\" x1=\"50%\" x2=\"50%\" y1=\"19.2px\" y2=\"48px\" /></svg><line stroke=\"black\" x1=\"50%\" x2=\"22.9452%\" y1=\"19.2px\" y2=\"48px\" /><svg width=\"3.42466%\" x=\"23.9726%\" y=\"48px\"><defs /><svg width=\"100%\" x=\"0\" y=\"0px\"><defs /><text text-anchor=\"middle\" x=\"50%\" y=\"16px\">it</text></svg><svg width=\"100%\" x=\"0%\" y=\"48px\"><defs /><svg width=\"100%\" x=\"0\" y=\"0px\"><defs /><text text-anchor=\"middle\" x=\"50%\" y=\"16px\">PRP</text></svg></svg><line stroke=\"black\" x1=\"50%\" x2=\"50%\" y1=\"19.2px\" y2=\"48px\" /></svg><line stroke=\"black\" x1=\"50%\" x2=\"25.6849%\" y1=\"19.2px\" y2=\"48px\" /><svg width=\"3.42466%\" x=\"27.3973%\" y=\"48px\"><defs /><svg width=\"100%\" x=\"0\" y=\"0px\"><defs /><text text-anchor=\"middle\" x=\"50%\" y=\"16px\">was</text></svg><svg width=\"100%\" x=\"0%\" y=\"48px\"><defs /><svg width=\"100%\" x=\"0\" y=\"0px\"><defs /><text text-anchor=\"middle\" x=\"50%\" y=\"16px\">VBD</text></svg></svg><line stroke=\"black\" x1=\"50%\" x2=\"50%\" y1=\"19.2px\" y2=\"48px\" /></svg><line stroke=\"black\" x1=\"50%\" x2=\"29.1096%\" y1=\"19.2px\" y2=\"48px\" /><svg width=\"3.42466%\" x=\"30.8219%\" y=\"48px\"><defs /><svg width=\"100%\" x=\"0\" y=\"0px\"><defs /><text text-anchor=\"middle\" x=\"50%\" y=\"16px\">the</text></svg><svg width=\"100%\" x=\"0%\" y=\"48px\"><defs /><svg width=\"100%\" x=\"0\" y=\"0px\"><defs /><text text-anchor=\"middle\" x=\"50%\" y=\"16px\">DT</text></svg></svg><line stroke=\"black\" x1=\"50%\" x2=\"50%\" y1=\"19.2px\" y2=\"48px\" /></svg><line stroke=\"black\" x1=\"50%\" x2=\"32.5342%\" y1=\"19.2px\" y2=\"48px\" /><svg width=\"4.79452%\" x=\"34.2466%\" y=\"48px\"><defs /><svg width=\"100%\" x=\"0\" y=\"0px\"><defs /><text text-anchor=\"middle\" x=\"50%\" y=\"16px\">worst</text></svg><svg width=\"100%\" x=\"0%\" y=\"48px\"><defs /><svg width=\"100%\" x=\"0\" y=\"0px\"><defs /><text text-anchor=\"middle\" x=\"50%\" y=\"16px\">JJS</text></svg></svg><line stroke=\"black\" x1=\"50%\" x2=\"50%\" y1=\"19.2px\" y2=\"48px\" /></svg><line stroke=\"black\" x1=\"50%\" x2=\"36.6438%\" y1=\"19.2px\" y2=\"48px\" /><svg width=\"2.73973%\" x=\"39.0411%\" y=\"48px\"><defs /><svg width=\"100%\" x=\"0\" y=\"0px\"><defs /><text text-anchor=\"middle\" x=\"50%\" y=\"16px\">of</text></svg><svg width=\"100%\" x=\"0%\" y=\"48px\"><defs /><svg width=\"100%\" x=\"0\" y=\"0px\"><defs /><text text-anchor=\"middle\" x=\"50%\" y=\"16px\">IN</text></svg></svg><line stroke=\"black\" x1=\"50%\" x2=\"50%\" y1=\"19.2px\" y2=\"48px\" /></svg><line stroke=\"black\" x1=\"50%\" x2=\"40.411%\" y1=\"19.2px\" y2=\"48px\" /><svg width=\"4.79452%\" x=\"41.7808%\" y=\"48px\"><defs /><svg width=\"100%\" x=\"0\" y=\"0px\"><defs /><text text-anchor=\"middle\" x=\"50%\" y=\"16px\">times</text></svg><svg width=\"100%\" x=\"0%\" y=\"48px\"><defs /><svg width=\"100%\" x=\"0\" y=\"0px\"><defs /><text text-anchor=\"middle\" x=\"50%\" y=\"16px\">NNS</text></svg></svg><line stroke=\"black\" x1=\"50%\" x2=\"50%\" y1=\"19.2px\" y2=\"48px\" /></svg><line stroke=\"black\" x1=\"50%\" x2=\"44.1781%\" y1=\"19.2px\" y2=\"48px\" /><svg width=\"2.05479%\" x=\"46.5753%\" y=\"48px\"><defs /><svg width=\"100%\" x=\"0\" y=\"0px\"><defs /><text text-anchor=\"middle\" x=\"50%\" y=\"16px\">,</text></svg><svg width=\"100%\" x=\"0%\" y=\"48px\"><defs /><svg width=\"100%\" x=\"0\" y=\"0px\"><defs /><text text-anchor=\"middle\" x=\"50%\" y=\"16px\">,</text></svg></svg><line stroke=\"black\" x1=\"50%\" x2=\"50%\" y1=\"19.2px\" y2=\"48px\" /></svg><line stroke=\"black\" x1=\"50%\" x2=\"47.6027%\" y1=\"19.2px\" y2=\"48px\" /><svg width=\"3.42466%\" x=\"48.6301%\" y=\"48px\"><defs /><svg width=\"100%\" x=\"0\" y=\"0px\"><defs /><text text-anchor=\"middle\" x=\"50%\" y=\"16px\">it</text></svg><svg width=\"100%\" x=\"0%\" y=\"48px\"><defs /><svg width=\"100%\" x=\"0\" y=\"0px\"><defs /><text text-anchor=\"middle\" x=\"50%\" y=\"16px\">PRP</text></svg></svg><line stroke=\"black\" x1=\"50%\" x2=\"50%\" y1=\"19.2px\" y2=\"48px\" /></svg><line stroke=\"black\" x1=\"50%\" x2=\"50.3425%\" y1=\"19.2px\" y2=\"48px\" /><svg width=\"3.42466%\" x=\"52.0548%\" y=\"48px\"><defs /><svg width=\"100%\" x=\"0\" y=\"0px\"><defs /><text text-anchor=\"middle\" x=\"50%\" y=\"16px\">was</text></svg><svg width=\"100%\" x=\"0%\" y=\"48px\"><defs /><svg width=\"100%\" x=\"0\" y=\"0px\"><defs /><text text-anchor=\"middle\" x=\"50%\" y=\"16px\">VBD</text></svg></svg><line stroke=\"black\" x1=\"50%\" x2=\"50%\" y1=\"19.2px\" y2=\"48px\" /></svg><line stroke=\"black\" x1=\"50%\" x2=\"53.7671%\" y1=\"19.2px\" y2=\"48px\" /><svg width=\"3.42466%\" x=\"55.4795%\" y=\"48px\"><defs /><svg width=\"100%\" x=\"0\" y=\"0px\"><defs /><text text-anchor=\"middle\" x=\"50%\" y=\"16px\">the</text></svg><svg width=\"100%\" x=\"0%\" y=\"48px\"><defs /><svg width=\"100%\" x=\"0\" y=\"0px\"><defs /><text text-anchor=\"middle\" x=\"50%\" y=\"16px\">DT</text></svg></svg><line stroke=\"black\" x1=\"50%\" x2=\"50%\" y1=\"19.2px\" y2=\"48px\" /></svg><line stroke=\"black\" x1=\"50%\" x2=\"57.1918%\" y1=\"19.2px\" y2=\"48px\" /><svg width=\"3.42466%\" x=\"58.9041%\" y=\"48px\"><defs /><svg width=\"100%\" x=\"0\" y=\"0px\"><defs /><text text-anchor=\"middle\" x=\"50%\" y=\"16px\">age</text></svg><svg width=\"100%\" x=\"0%\" y=\"48px\"><defs /><svg width=\"100%\" x=\"0\" y=\"0px\"><defs /><text text-anchor=\"middle\" x=\"50%\" y=\"16px\">NN</text></svg></svg><line stroke=\"black\" x1=\"50%\" x2=\"50%\" y1=\"19.2px\" y2=\"48px\" /></svg><line stroke=\"black\" x1=\"50%\" x2=\"60.6164%\" y1=\"19.2px\" y2=\"48px\" /><svg width=\"2.73973%\" x=\"62.3288%\" y=\"48px\"><defs /><svg width=\"100%\" x=\"0\" y=\"0px\"><defs /><text text-anchor=\"middle\" x=\"50%\" y=\"16px\">of</text></svg><svg width=\"100%\" x=\"0%\" y=\"48px\"><defs /><svg width=\"100%\" x=\"0\" y=\"0px\"><defs /><text text-anchor=\"middle\" x=\"50%\" y=\"16px\">IN</text></svg></svg><line stroke=\"black\" x1=\"50%\" x2=\"50%\" y1=\"19.2px\" y2=\"48px\" /></svg><line stroke=\"black\" x1=\"50%\" x2=\"63.6986%\" y1=\"19.2px\" y2=\"48px\" /><svg width=\"5.47945%\" x=\"65.0685%\" y=\"48px\"><defs /><svg width=\"100%\" x=\"0\" y=\"0px\"><defs /><text text-anchor=\"middle\" x=\"50%\" y=\"16px\">wisdom</text></svg><svg width=\"100%\" x=\"0%\" y=\"48px\"><defs /><svg width=\"100%\" x=\"0\" y=\"0px\"><defs /><text text-anchor=\"middle\" x=\"50%\" y=\"16px\">NN</text></svg></svg><line stroke=\"black\" x1=\"50%\" x2=\"50%\" y1=\"19.2px\" y2=\"48px\" /></svg><line stroke=\"black\" x1=\"50%\" x2=\"67.8082%\" y1=\"19.2px\" y2=\"48px\" /><svg width=\"2.05479%\" x=\"70.5479%\" y=\"48px\"><defs /><svg width=\"100%\" x=\"0\" y=\"0px\"><defs /><text text-anchor=\"middle\" x=\"50%\" y=\"16px\">;</text></svg><svg width=\"100%\" x=\"0%\" y=\"48px\"><defs /><svg width=\"100%\" x=\"0\" y=\"0px\"><defs /><text text-anchor=\"middle\" x=\"50%\" y=\"16px\">:</text></svg></svg><line stroke=\"black\" x1=\"50%\" x2=\"50%\" y1=\"19.2px\" y2=\"48px\" /></svg><line stroke=\"black\" x1=\"50%\" x2=\"71.5753%\" y1=\"19.2px\" y2=\"48px\" /><svg width=\"3.42466%\" x=\"72.6027%\" y=\"48px\"><defs /><svg width=\"100%\" x=\"0\" y=\"0px\"><defs /><text text-anchor=\"middle\" x=\"50%\" y=\"16px\">it</text></svg><svg width=\"100%\" x=\"0%\" y=\"48px\"><defs /><svg width=\"100%\" x=\"0\" y=\"0px\"><defs /><text text-anchor=\"middle\" x=\"50%\" y=\"16px\">PRP</text></svg></svg><line stroke=\"black\" x1=\"50%\" x2=\"50%\" y1=\"19.2px\" y2=\"48px\" /></svg><line stroke=\"black\" x1=\"50%\" x2=\"74.3151%\" y1=\"19.2px\" y2=\"48px\" /><svg width=\"3.42466%\" x=\"76.0274%\" y=\"48px\"><defs /><svg width=\"100%\" x=\"0\" y=\"0px\"><defs /><text text-anchor=\"middle\" x=\"50%\" y=\"16px\">was</text></svg><svg width=\"100%\" x=\"0%\" y=\"48px\"><defs /><svg width=\"100%\" x=\"0\" y=\"0px\"><defs /><text text-anchor=\"middle\" x=\"50%\" y=\"16px\">VBD</text></svg></svg><line stroke=\"black\" x1=\"50%\" x2=\"50%\" y1=\"19.2px\" y2=\"48px\" /></svg><line stroke=\"black\" x1=\"50%\" x2=\"77.7397%\" y1=\"19.2px\" y2=\"48px\" /><svg width=\"3.42466%\" x=\"79.4521%\" y=\"48px\"><defs /><svg width=\"100%\" x=\"0\" y=\"0px\"><defs /><text text-anchor=\"middle\" x=\"50%\" y=\"16px\">the</text></svg><svg width=\"100%\" x=\"0%\" y=\"48px\"><defs /><svg width=\"100%\" x=\"0\" y=\"0px\"><defs /><text text-anchor=\"middle\" x=\"50%\" y=\"16px\">DT</text></svg></svg><line stroke=\"black\" x1=\"50%\" x2=\"50%\" y1=\"19.2px\" y2=\"48px\" /></svg><line stroke=\"black\" x1=\"50%\" x2=\"81.1644%\" y1=\"19.2px\" y2=\"48px\" /><svg width=\"3.42466%\" x=\"82.8767%\" y=\"48px\"><defs /><svg width=\"100%\" x=\"0\" y=\"0px\"><defs /><text text-anchor=\"middle\" x=\"50%\" y=\"16px\">age</text></svg><svg width=\"100%\" x=\"0%\" y=\"48px\"><defs /><svg width=\"100%\" x=\"0\" y=\"0px\"><defs /><text text-anchor=\"middle\" x=\"50%\" y=\"16px\">NN</text></svg></svg><line stroke=\"black\" x1=\"50%\" x2=\"50%\" y1=\"19.2px\" y2=\"48px\" /></svg><line stroke=\"black\" x1=\"50%\" x2=\"84.589%\" y1=\"19.2px\" y2=\"48px\" /><svg width=\"2.73973%\" x=\"86.3014%\" y=\"48px\"><defs /><svg width=\"100%\" x=\"0\" y=\"0px\"><defs /><text text-anchor=\"middle\" x=\"50%\" y=\"16px\">of</text></svg><svg width=\"100%\" x=\"0%\" y=\"48px\"><defs /><svg width=\"100%\" x=\"0\" y=\"0px\"><defs /><text text-anchor=\"middle\" x=\"50%\" y=\"16px\">IN</text></svg></svg><line stroke=\"black\" x1=\"50%\" x2=\"50%\" y1=\"19.2px\" y2=\"48px\" /></svg><line stroke=\"black\" x1=\"50%\" x2=\"87.6712%\" y1=\"19.2px\" y2=\"48px\" /><svg width=\"8.90411%\" x=\"89.0411%\" y=\"48px\"><defs /><svg width=\"100%\" x=\"0\" y=\"0px\"><defs /><text text-anchor=\"middle\" x=\"50%\" y=\"16px\">foolishness</text></svg><svg width=\"100%\" x=\"0%\" y=\"48px\"><defs /><svg width=\"100%\" x=\"0\" y=\"0px\"><defs /><text text-anchor=\"middle\" x=\"50%\" y=\"16px\">NN</text></svg></svg><line stroke=\"black\" x1=\"50%\" x2=\"50%\" y1=\"19.2px\" y2=\"48px\" /></svg><line stroke=\"black\" x1=\"50%\" x2=\"93.4932%\" y1=\"19.2px\" y2=\"48px\" /><svg width=\"2.05479%\" x=\"97.9452%\" y=\"48px\"><defs /><svg width=\"100%\" x=\"0\" y=\"0px\"><defs /><text text-anchor=\"middle\" x=\"50%\" y=\"16px\">.</text></svg><svg width=\"100%\" x=\"0%\" y=\"48px\"><defs /><svg width=\"100%\" x=\"0\" y=\"0px\"><defs /><text text-anchor=\"middle\" x=\"50%\" y=\"16px\">.</text></svg></svg><line stroke=\"black\" x1=\"50%\" x2=\"50%\" y1=\"19.2px\" y2=\"48px\" /></svg><line stroke=\"black\" x1=\"50%\" x2=\"98.9726%\" y1=\"19.2px\" y2=\"48px\" /></svg>"
          },
          "metadata": {},
          "execution_count": 32
        }
      ]
    },
    {
      "cell_type": "markdown",
      "source": [
        "The code snippet you've shared implies the intention to output named entities in a graphical format, specifically referring to the `entities` variable which is expected to hold the result of *named entity recognition (NER) *performed by the ne_chunk function from the *Natural Language Toolkit (NLTK)*."
      ],
      "metadata": {
        "id": "b1OaPS4hcXz2"
      }
    }
  ]
}